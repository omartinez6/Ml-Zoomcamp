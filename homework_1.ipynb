{
  "nbformat": 4,
  "nbformat_minor": 0,
  "metadata": {
    "colab": {
      "provenance": [],
      "authorship_tag": "ABX9TyNZEh0ibtwJZtvl5az+UQEA",
      "include_colab_link": true
    },
    "kernelspec": {
      "name": "python3",
      "display_name": "Python 3"
    },
    "language_info": {
      "name": "python"
    }
  },
  "cells": [
    {
      "cell_type": "markdown",
      "metadata": {
        "id": "view-in-github",
        "colab_type": "text"
      },
      "source": [
        "<a href=\"https://colab.research.google.com/github/omartinez6/ml-zoomcamp/blob/main/homework_1.ipynb\" target=\"_parent\"><img src=\"https://colab.research.google.com/assets/colab-badge.svg\" alt=\"Open In Colab\"/></a>"
      ]
    },
    {
      "cell_type": "code",
      "execution_count": 31,
      "metadata": {
        "id": "98VyiM5a_iEL"
      },
      "outputs": [],
      "source": [
        "import pandas as pd\n",
        "import numpy as np"
      ]
    },
    {
      "cell_type": "markdown",
      "source": [
        "## Q1. Pandas version\n",
        "What's the version of Pandas that you installed?"
      ],
      "metadata": {
        "id": "YW4QZHlcmcb-"
      }
    },
    {
      "cell_type": "code",
      "source": [
        "version = pd.__version__\n",
        "version"
      ],
      "metadata": {
        "colab": {
          "base_uri": "https://localhost:8080/",
          "height": 35
        },
        "id": "dheGv89TKUR1",
        "outputId": "5ad9f8b6-1754-48b0-94ac-a731fc8dd526"
      },
      "execution_count": 46,
      "outputs": [
        {
          "output_type": "execute_result",
          "data": {
            "text/plain": [
              "'2.1.4'"
            ],
            "application/vnd.google.colaboratory.intrinsic+json": {
              "type": "string"
            }
          },
          "metadata": {},
          "execution_count": 46
        }
      ]
    },
    {
      "cell_type": "code",
      "source": [
        "!wget https://raw.githubusercontent.com/alexeygrigorev/datasets/master/laptops.csv"
      ],
      "metadata": {
        "colab": {
          "base_uri": "https://localhost:8080/"
        },
        "id": "e46GSxvCHmXU",
        "outputId": "b74c6802-58cc-4acc-cced-e8c108140221"
      },
      "execution_count": 33,
      "outputs": [
        {
          "output_type": "stream",
          "name": "stdout",
          "text": [
            "--2024-09-23 22:31:35--  https://raw.githubusercontent.com/alexeygrigorev/datasets/master/laptops.csv\n",
            "Resolving raw.githubusercontent.com (raw.githubusercontent.com)... 185.199.110.133, 185.199.109.133, 185.199.108.133, ...\n",
            "Connecting to raw.githubusercontent.com (raw.githubusercontent.com)|185.199.110.133|:443... connected.\n",
            "HTTP request sent, awaiting response... 200 OK\n",
            "Length: 298573 (292K) [text/plain]\n",
            "Saving to: ‘laptops.csv.2’\n",
            "\n",
            "laptops.csv.2       100%[===================>] 291.58K  --.-KB/s    in 0.04s   \n",
            "\n",
            "2024-09-23 22:31:36 (6.52 MB/s) - ‘laptops.csv.2’ saved [298573/298573]\n",
            "\n"
          ]
        }
      ]
    },
    {
      "cell_type": "code",
      "source": [
        "laptops = pd.read_csv('laptops.csv')\n",
        "laptops.head()"
      ],
      "metadata": {
        "colab": {
          "base_uri": "https://localhost:8080/",
          "height": 310
        },
        "id": "xMDfoEEHKJkq",
        "outputId": "d43b4951-39b8-4013-e249-287088a6344e"
      },
      "execution_count": 36,
      "outputs": [
        {
          "output_type": "execute_result",
          "data": {
            "text/plain": [
              "                                              Laptop Status   Brand  \\\n",
              "0  ASUS ExpertBook B1 B1502CBA-EJ0436X Intel Core...    New    Asus   \n",
              "1  Alurin Go Start Intel Celeron N4020/8GB/256GB ...    New  Alurin   \n",
              "2  ASUS ExpertBook B1 B1502CBA-EJ0424X Intel Core...    New    Asus   \n",
              "3  MSI Katana GF66 12UC-082XES Intel Core i7-1270...    New     MSI   \n",
              "4  HP 15S-FQ5085NS Intel Core i5-1235U/16GB/512GB...    New      HP   \n",
              "\n",
              "        Model            CPU  RAM  Storage Storage type       GPU  Screen  \\\n",
              "0  ExpertBook  Intel Core i5    8      512          SSD       NaN    15.6   \n",
              "1          Go  Intel Celeron    8      256          SSD       NaN    15.6   \n",
              "2  ExpertBook  Intel Core i3    8      256          SSD       NaN    15.6   \n",
              "3      Katana  Intel Core i7   16     1000          SSD  RTX 3050    15.6   \n",
              "4         15S  Intel Core i5   16      512          SSD       NaN    15.6   \n",
              "\n",
              "  Touch  Final Price  \n",
              "0    No      1009.00  \n",
              "1    No       299.00  \n",
              "2    No       789.00  \n",
              "3    No      1199.00  \n",
              "4    No       669.01  "
            ],
            "text/html": [
              "\n",
              "  <div id=\"df-d4faa8a5-c5fb-449a-a272-08adbf09378f\" class=\"colab-df-container\">\n",
              "    <div>\n",
              "<style scoped>\n",
              "    .dataframe tbody tr th:only-of-type {\n",
              "        vertical-align: middle;\n",
              "    }\n",
              "\n",
              "    .dataframe tbody tr th {\n",
              "        vertical-align: top;\n",
              "    }\n",
              "\n",
              "    .dataframe thead th {\n",
              "        text-align: right;\n",
              "    }\n",
              "</style>\n",
              "<table border=\"1\" class=\"dataframe\">\n",
              "  <thead>\n",
              "    <tr style=\"text-align: right;\">\n",
              "      <th></th>\n",
              "      <th>Laptop</th>\n",
              "      <th>Status</th>\n",
              "      <th>Brand</th>\n",
              "      <th>Model</th>\n",
              "      <th>CPU</th>\n",
              "      <th>RAM</th>\n",
              "      <th>Storage</th>\n",
              "      <th>Storage type</th>\n",
              "      <th>GPU</th>\n",
              "      <th>Screen</th>\n",
              "      <th>Touch</th>\n",
              "      <th>Final Price</th>\n",
              "    </tr>\n",
              "  </thead>\n",
              "  <tbody>\n",
              "    <tr>\n",
              "      <th>0</th>\n",
              "      <td>ASUS ExpertBook B1 B1502CBA-EJ0436X Intel Core...</td>\n",
              "      <td>New</td>\n",
              "      <td>Asus</td>\n",
              "      <td>ExpertBook</td>\n",
              "      <td>Intel Core i5</td>\n",
              "      <td>8</td>\n",
              "      <td>512</td>\n",
              "      <td>SSD</td>\n",
              "      <td>NaN</td>\n",
              "      <td>15.6</td>\n",
              "      <td>No</td>\n",
              "      <td>1009.00</td>\n",
              "    </tr>\n",
              "    <tr>\n",
              "      <th>1</th>\n",
              "      <td>Alurin Go Start Intel Celeron N4020/8GB/256GB ...</td>\n",
              "      <td>New</td>\n",
              "      <td>Alurin</td>\n",
              "      <td>Go</td>\n",
              "      <td>Intel Celeron</td>\n",
              "      <td>8</td>\n",
              "      <td>256</td>\n",
              "      <td>SSD</td>\n",
              "      <td>NaN</td>\n",
              "      <td>15.6</td>\n",
              "      <td>No</td>\n",
              "      <td>299.00</td>\n",
              "    </tr>\n",
              "    <tr>\n",
              "      <th>2</th>\n",
              "      <td>ASUS ExpertBook B1 B1502CBA-EJ0424X Intel Core...</td>\n",
              "      <td>New</td>\n",
              "      <td>Asus</td>\n",
              "      <td>ExpertBook</td>\n",
              "      <td>Intel Core i3</td>\n",
              "      <td>8</td>\n",
              "      <td>256</td>\n",
              "      <td>SSD</td>\n",
              "      <td>NaN</td>\n",
              "      <td>15.6</td>\n",
              "      <td>No</td>\n",
              "      <td>789.00</td>\n",
              "    </tr>\n",
              "    <tr>\n",
              "      <th>3</th>\n",
              "      <td>MSI Katana GF66 12UC-082XES Intel Core i7-1270...</td>\n",
              "      <td>New</td>\n",
              "      <td>MSI</td>\n",
              "      <td>Katana</td>\n",
              "      <td>Intel Core i7</td>\n",
              "      <td>16</td>\n",
              "      <td>1000</td>\n",
              "      <td>SSD</td>\n",
              "      <td>RTX 3050</td>\n",
              "      <td>15.6</td>\n",
              "      <td>No</td>\n",
              "      <td>1199.00</td>\n",
              "    </tr>\n",
              "    <tr>\n",
              "      <th>4</th>\n",
              "      <td>HP 15S-FQ5085NS Intel Core i5-1235U/16GB/512GB...</td>\n",
              "      <td>New</td>\n",
              "      <td>HP</td>\n",
              "      <td>15S</td>\n",
              "      <td>Intel Core i5</td>\n",
              "      <td>16</td>\n",
              "      <td>512</td>\n",
              "      <td>SSD</td>\n",
              "      <td>NaN</td>\n",
              "      <td>15.6</td>\n",
              "      <td>No</td>\n",
              "      <td>669.01</td>\n",
              "    </tr>\n",
              "  </tbody>\n",
              "</table>\n",
              "</div>\n",
              "    <div class=\"colab-df-buttons\">\n",
              "\n",
              "  <div class=\"colab-df-container\">\n",
              "    <button class=\"colab-df-convert\" onclick=\"convertToInteractive('df-d4faa8a5-c5fb-449a-a272-08adbf09378f')\"\n",
              "            title=\"Convert this dataframe to an interactive table.\"\n",
              "            style=\"display:none;\">\n",
              "\n",
              "  <svg xmlns=\"http://www.w3.org/2000/svg\" height=\"24px\" viewBox=\"0 -960 960 960\">\n",
              "    <path d=\"M120-120v-720h720v720H120Zm60-500h600v-160H180v160Zm220 220h160v-160H400v160Zm0 220h160v-160H400v160ZM180-400h160v-160H180v160Zm440 0h160v-160H620v160ZM180-180h160v-160H180v160Zm440 0h160v-160H620v160Z\"/>\n",
              "  </svg>\n",
              "    </button>\n",
              "\n",
              "  <style>\n",
              "    .colab-df-container {\n",
              "      display:flex;\n",
              "      gap: 12px;\n",
              "    }\n",
              "\n",
              "    .colab-df-convert {\n",
              "      background-color: #E8F0FE;\n",
              "      border: none;\n",
              "      border-radius: 50%;\n",
              "      cursor: pointer;\n",
              "      display: none;\n",
              "      fill: #1967D2;\n",
              "      height: 32px;\n",
              "      padding: 0 0 0 0;\n",
              "      width: 32px;\n",
              "    }\n",
              "\n",
              "    .colab-df-convert:hover {\n",
              "      background-color: #E2EBFA;\n",
              "      box-shadow: 0px 1px 2px rgba(60, 64, 67, 0.3), 0px 1px 3px 1px rgba(60, 64, 67, 0.15);\n",
              "      fill: #174EA6;\n",
              "    }\n",
              "\n",
              "    .colab-df-buttons div {\n",
              "      margin-bottom: 4px;\n",
              "    }\n",
              "\n",
              "    [theme=dark] .colab-df-convert {\n",
              "      background-color: #3B4455;\n",
              "      fill: #D2E3FC;\n",
              "    }\n",
              "\n",
              "    [theme=dark] .colab-df-convert:hover {\n",
              "      background-color: #434B5C;\n",
              "      box-shadow: 0px 1px 3px 1px rgba(0, 0, 0, 0.15);\n",
              "      filter: drop-shadow(0px 1px 2px rgba(0, 0, 0, 0.3));\n",
              "      fill: #FFFFFF;\n",
              "    }\n",
              "  </style>\n",
              "\n",
              "    <script>\n",
              "      const buttonEl =\n",
              "        document.querySelector('#df-d4faa8a5-c5fb-449a-a272-08adbf09378f button.colab-df-convert');\n",
              "      buttonEl.style.display =\n",
              "        google.colab.kernel.accessAllowed ? 'block' : 'none';\n",
              "\n",
              "      async function convertToInteractive(key) {\n",
              "        const element = document.querySelector('#df-d4faa8a5-c5fb-449a-a272-08adbf09378f');\n",
              "        const dataTable =\n",
              "          await google.colab.kernel.invokeFunction('convertToInteractive',\n",
              "                                                    [key], {});\n",
              "        if (!dataTable) return;\n",
              "\n",
              "        const docLinkHtml = 'Like what you see? Visit the ' +\n",
              "          '<a target=\"_blank\" href=https://colab.research.google.com/notebooks/data_table.ipynb>data table notebook</a>'\n",
              "          + ' to learn more about interactive tables.';\n",
              "        element.innerHTML = '';\n",
              "        dataTable['output_type'] = 'display_data';\n",
              "        await google.colab.output.renderOutput(dataTable, element);\n",
              "        const docLink = document.createElement('div');\n",
              "        docLink.innerHTML = docLinkHtml;\n",
              "        element.appendChild(docLink);\n",
              "      }\n",
              "    </script>\n",
              "  </div>\n",
              "\n",
              "\n",
              "<div id=\"df-80978a25-7163-4e6b-b498-023ca506bda6\">\n",
              "  <button class=\"colab-df-quickchart\" onclick=\"quickchart('df-80978a25-7163-4e6b-b498-023ca506bda6')\"\n",
              "            title=\"Suggest charts\"\n",
              "            style=\"display:none;\">\n",
              "\n",
              "<svg xmlns=\"http://www.w3.org/2000/svg\" height=\"24px\"viewBox=\"0 0 24 24\"\n",
              "     width=\"24px\">\n",
              "    <g>\n",
              "        <path d=\"M19 3H5c-1.1 0-2 .9-2 2v14c0 1.1.9 2 2 2h14c1.1 0 2-.9 2-2V5c0-1.1-.9-2-2-2zM9 17H7v-7h2v7zm4 0h-2V7h2v10zm4 0h-2v-4h2v4z\"/>\n",
              "    </g>\n",
              "</svg>\n",
              "  </button>\n",
              "\n",
              "<style>\n",
              "  .colab-df-quickchart {\n",
              "      --bg-color: #E8F0FE;\n",
              "      --fill-color: #1967D2;\n",
              "      --hover-bg-color: #E2EBFA;\n",
              "      --hover-fill-color: #174EA6;\n",
              "      --disabled-fill-color: #AAA;\n",
              "      --disabled-bg-color: #DDD;\n",
              "  }\n",
              "\n",
              "  [theme=dark] .colab-df-quickchart {\n",
              "      --bg-color: #3B4455;\n",
              "      --fill-color: #D2E3FC;\n",
              "      --hover-bg-color: #434B5C;\n",
              "      --hover-fill-color: #FFFFFF;\n",
              "      --disabled-bg-color: #3B4455;\n",
              "      --disabled-fill-color: #666;\n",
              "  }\n",
              "\n",
              "  .colab-df-quickchart {\n",
              "    background-color: var(--bg-color);\n",
              "    border: none;\n",
              "    border-radius: 50%;\n",
              "    cursor: pointer;\n",
              "    display: none;\n",
              "    fill: var(--fill-color);\n",
              "    height: 32px;\n",
              "    padding: 0;\n",
              "    width: 32px;\n",
              "  }\n",
              "\n",
              "  .colab-df-quickchart:hover {\n",
              "    background-color: var(--hover-bg-color);\n",
              "    box-shadow: 0 1px 2px rgba(60, 64, 67, 0.3), 0 1px 3px 1px rgba(60, 64, 67, 0.15);\n",
              "    fill: var(--button-hover-fill-color);\n",
              "  }\n",
              "\n",
              "  .colab-df-quickchart-complete:disabled,\n",
              "  .colab-df-quickchart-complete:disabled:hover {\n",
              "    background-color: var(--disabled-bg-color);\n",
              "    fill: var(--disabled-fill-color);\n",
              "    box-shadow: none;\n",
              "  }\n",
              "\n",
              "  .colab-df-spinner {\n",
              "    border: 2px solid var(--fill-color);\n",
              "    border-color: transparent;\n",
              "    border-bottom-color: var(--fill-color);\n",
              "    animation:\n",
              "      spin 1s steps(1) infinite;\n",
              "  }\n",
              "\n",
              "  @keyframes spin {\n",
              "    0% {\n",
              "      border-color: transparent;\n",
              "      border-bottom-color: var(--fill-color);\n",
              "      border-left-color: var(--fill-color);\n",
              "    }\n",
              "    20% {\n",
              "      border-color: transparent;\n",
              "      border-left-color: var(--fill-color);\n",
              "      border-top-color: var(--fill-color);\n",
              "    }\n",
              "    30% {\n",
              "      border-color: transparent;\n",
              "      border-left-color: var(--fill-color);\n",
              "      border-top-color: var(--fill-color);\n",
              "      border-right-color: var(--fill-color);\n",
              "    }\n",
              "    40% {\n",
              "      border-color: transparent;\n",
              "      border-right-color: var(--fill-color);\n",
              "      border-top-color: var(--fill-color);\n",
              "    }\n",
              "    60% {\n",
              "      border-color: transparent;\n",
              "      border-right-color: var(--fill-color);\n",
              "    }\n",
              "    80% {\n",
              "      border-color: transparent;\n",
              "      border-right-color: var(--fill-color);\n",
              "      border-bottom-color: var(--fill-color);\n",
              "    }\n",
              "    90% {\n",
              "      border-color: transparent;\n",
              "      border-bottom-color: var(--fill-color);\n",
              "    }\n",
              "  }\n",
              "</style>\n",
              "\n",
              "  <script>\n",
              "    async function quickchart(key) {\n",
              "      const quickchartButtonEl =\n",
              "        document.querySelector('#' + key + ' button');\n",
              "      quickchartButtonEl.disabled = true;  // To prevent multiple clicks.\n",
              "      quickchartButtonEl.classList.add('colab-df-spinner');\n",
              "      try {\n",
              "        const charts = await google.colab.kernel.invokeFunction(\n",
              "            'suggestCharts', [key], {});\n",
              "      } catch (error) {\n",
              "        console.error('Error during call to suggestCharts:', error);\n",
              "      }\n",
              "      quickchartButtonEl.classList.remove('colab-df-spinner');\n",
              "      quickchartButtonEl.classList.add('colab-df-quickchart-complete');\n",
              "    }\n",
              "    (() => {\n",
              "      let quickchartButtonEl =\n",
              "        document.querySelector('#df-80978a25-7163-4e6b-b498-023ca506bda6 button');\n",
              "      quickchartButtonEl.style.display =\n",
              "        google.colab.kernel.accessAllowed ? 'block' : 'none';\n",
              "    })();\n",
              "  </script>\n",
              "</div>\n",
              "\n",
              "    </div>\n",
              "  </div>\n"
            ],
            "application/vnd.google.colaboratory.intrinsic+json": {
              "type": "dataframe",
              "variable_name": "laptops",
              "summary": "{\n  \"name\": \"laptops\",\n  \"rows\": 2160,\n  \"fields\": [\n    {\n      \"column\": \"Laptop\",\n      \"properties\": {\n        \"dtype\": \"string\",\n        \"num_unique_values\": 2160,\n        \"samples\": [\n          \"MSI Modern 15 A11SBU-620XES Intel Core i7-1165G7/32GB/1TB SSD/MX450/15.6\\\"\",\n          \"Thomson Neo White Intel Celeron N4020/4GB/64GB eMMC/14.1\\\"\",\n          \"MSI Modern 14 B11SB-420XES Intel Core i7-1165G7/32GB/1TB SSD/MX450/14\\\"\"\n        ],\n        \"semantic_type\": \"\",\n        \"description\": \"\"\n      }\n    },\n    {\n      \"column\": \"Status\",\n      \"properties\": {\n        \"dtype\": \"category\",\n        \"num_unique_values\": 2,\n        \"samples\": [\n          \"Refurbished\",\n          \"New\"\n        ],\n        \"semantic_type\": \"\",\n        \"description\": \"\"\n      }\n    },\n    {\n      \"column\": \"Brand\",\n      \"properties\": {\n        \"dtype\": \"category\",\n        \"num_unique_values\": 27,\n        \"samples\": [\n          \"Razer\",\n          \"PcCom\"\n        ],\n        \"semantic_type\": \"\",\n        \"description\": \"\"\n      }\n    },\n    {\n      \"column\": \"Model\",\n      \"properties\": {\n        \"dtype\": \"category\",\n        \"num_unique_values\": 121,\n        \"samples\": [\n          \"Aero\",\n          \"Erazer\"\n        ],\n        \"semantic_type\": \"\",\n        \"description\": \"\"\n      }\n    },\n    {\n      \"column\": \"CPU\",\n      \"properties\": {\n        \"dtype\": \"category\",\n        \"num_unique_values\": 28,\n        \"samples\": [\n          \"Apple M2\",\n          \"AMD 3015Ce\"\n        ],\n        \"semantic_type\": \"\",\n        \"description\": \"\"\n      }\n    },\n    {\n      \"column\": \"RAM\",\n      \"properties\": {\n        \"dtype\": \"number\",\n        \"std\": 9,\n        \"min\": 4,\n        \"max\": 128,\n        \"num_unique_values\": 9,\n        \"samples\": [\n          6,\n          16\n        ],\n        \"semantic_type\": \"\",\n        \"description\": \"\"\n      }\n    },\n    {\n      \"column\": \"Storage\",\n      \"properties\": {\n        \"dtype\": \"number\",\n        \"std\": 361,\n        \"min\": 0,\n        \"max\": 4000,\n        \"num_unique_values\": 12,\n        \"samples\": [\n          3000,\n          4000\n        ],\n        \"semantic_type\": \"\",\n        \"description\": \"\"\n      }\n    },\n    {\n      \"column\": \"Storage type\",\n      \"properties\": {\n        \"dtype\": \"category\",\n        \"num_unique_values\": 2,\n        \"samples\": [\n          \"eMMC\",\n          \"SSD\"\n        ],\n        \"semantic_type\": \"\",\n        \"description\": \"\"\n      }\n    },\n    {\n      \"column\": \"GPU\",\n      \"properties\": {\n        \"dtype\": \"category\",\n        \"num_unique_values\": 44,\n        \"samples\": [\n          \"RTX 2080\",\n          \"Radeon Pro 5500M\"\n        ],\n        \"semantic_type\": \"\",\n        \"description\": \"\"\n      }\n    },\n    {\n      \"column\": \"Screen\",\n      \"properties\": {\n        \"dtype\": \"number\",\n        \"std\": 1.2033287583284522,\n        \"min\": 10.1,\n        \"max\": 18.0,\n        \"num_unique_values\": 29,\n        \"samples\": [\n          12.0,\n          16.2\n        ],\n        \"semantic_type\": \"\",\n        \"description\": \"\"\n      }\n    },\n    {\n      \"column\": \"Touch\",\n      \"properties\": {\n        \"dtype\": \"category\",\n        \"num_unique_values\": 2,\n        \"samples\": [\n          \"Yes\",\n          \"No\"\n        ],\n        \"semantic_type\": \"\",\n        \"description\": \"\"\n      }\n    },\n    {\n      \"column\": \"Final Price\",\n      \"properties\": {\n        \"dtype\": \"number\",\n        \"std\": 911.4754170328515,\n        \"min\": 201.05,\n        \"max\": 7150.47,\n        \"num_unique_values\": 1440,\n        \"samples\": [\n          3599.0,\n          1799.9\n        ],\n        \"semantic_type\": \"\",\n        \"description\": \"\"\n      }\n    }\n  ]\n}"
            }
          },
          "metadata": {},
          "execution_count": 36
        }
      ]
    },
    {
      "cell_type": "markdown",
      "source": [
        "## Q2. Records count\n",
        "How many records are in the dataset?"
      ],
      "metadata": {
        "id": "hU3ZykDdm2yA"
      }
    },
    {
      "cell_type": "code",
      "source": [
        "records = laptops.shape\n",
        "records"
      ],
      "metadata": {
        "colab": {
          "base_uri": "https://localhost:8080/"
        },
        "id": "BtiC32otnIvz",
        "outputId": "1f5e8d78-5441-45f0-b0ff-a3e2d5bf9726"
      },
      "execution_count": 37,
      "outputs": [
        {
          "output_type": "execute_result",
          "data": {
            "text/plain": [
              "(2160, 12)"
            ]
          },
          "metadata": {},
          "execution_count": 37
        }
      ]
    },
    {
      "cell_type": "markdown",
      "source": [
        "## Q3. Laptop brands\n",
        "How many laptop brands are presented in the dataset?"
      ],
      "metadata": {
        "id": "NyK5TP4dnNoX"
      }
    },
    {
      "cell_type": "code",
      "source": [
        "brands = laptops.Brand.nunique()\n",
        "brands"
      ],
      "metadata": {
        "colab": {
          "base_uri": "https://localhost:8080/"
        },
        "id": "zww1nxEd7UMo",
        "outputId": "5defb26e-e8cb-4ebb-d956-c8b8dd396924"
      },
      "execution_count": 38,
      "outputs": [
        {
          "output_type": "execute_result",
          "data": {
            "text/plain": [
              "27"
            ]
          },
          "metadata": {},
          "execution_count": 38
        }
      ]
    },
    {
      "cell_type": "markdown",
      "source": [
        "## Q4. Missing values\n",
        "How many columns in the dataset have missing values?"
      ],
      "metadata": {
        "id": "o0YxMF7GA7PA"
      }
    },
    {
      "cell_type": "code",
      "source": [
        "missing = laptops.isnull().sum()[laptops.isnull().sum() > 0]\n",
        "missing"
      ],
      "metadata": {
        "colab": {
          "base_uri": "https://localhost:8080/",
          "height": 178
        },
        "id": "C_xHJCCBkXuZ",
        "outputId": "ddc1a1de-8020-4773-988e-2d8a665a9382"
      },
      "execution_count": 45,
      "outputs": [
        {
          "output_type": "execute_result",
          "data": {
            "text/plain": [
              "Storage type      42\n",
              "GPU             1371\n",
              "Screen             4\n",
              "dtype: int64"
            ],
            "text/html": [
              "<div>\n",
              "<style scoped>\n",
              "    .dataframe tbody tr th:only-of-type {\n",
              "        vertical-align: middle;\n",
              "    }\n",
              "\n",
              "    .dataframe tbody tr th {\n",
              "        vertical-align: top;\n",
              "    }\n",
              "\n",
              "    .dataframe thead th {\n",
              "        text-align: right;\n",
              "    }\n",
              "</style>\n",
              "<table border=\"1\" class=\"dataframe\">\n",
              "  <thead>\n",
              "    <tr style=\"text-align: right;\">\n",
              "      <th></th>\n",
              "      <th>0</th>\n",
              "    </tr>\n",
              "  </thead>\n",
              "  <tbody>\n",
              "    <tr>\n",
              "      <th>Storage type</th>\n",
              "      <td>42</td>\n",
              "    </tr>\n",
              "    <tr>\n",
              "      <th>GPU</th>\n",
              "      <td>1371</td>\n",
              "    </tr>\n",
              "    <tr>\n",
              "      <th>Screen</th>\n",
              "      <td>4</td>\n",
              "    </tr>\n",
              "  </tbody>\n",
              "</table>\n",
              "</div><br><label><b>dtype:</b> int64</label>"
            ]
          },
          "metadata": {},
          "execution_count": 45
        }
      ]
    },
    {
      "cell_type": "markdown",
      "source": [
        "## Q5. Maximum final price\n",
        "What's the maximum final price of Dell notebooks in the dataset?"
      ],
      "metadata": {
        "id": "BB8O6B-zBJMF"
      }
    },
    {
      "cell_type": "code",
      "source": [
        "max_price = laptops[laptops.Brand == 'Dell']['Final Price'].max()\n",
        "max_price"
      ],
      "metadata": {
        "colab": {
          "base_uri": "https://localhost:8080/"
        },
        "id": "iWSvwYgbkyjg",
        "outputId": "aac2d960-d07b-4c81-f07a-aec13178c393"
      },
      "execution_count": 28,
      "outputs": [
        {
          "output_type": "execute_result",
          "data": {
            "text/plain": [
              "3936.0"
            ]
          },
          "metadata": {},
          "execution_count": 28
        }
      ]
    },
    {
      "cell_type": "markdown",
      "source": [
        "## Q6. Median value of Screen\n",
        "* Find the median value of Screen column in the dataset.\n",
        "* Next, calculate the most frequent value of the same Screen column.\n",
        "* Use fillna method to fill the missing values in Screen column with the most frequent value from the previous step.\n",
        "* Now, calculate the median value of Screen once again.\n",
        "Has it changed?\n",
        "\n",
        "Hint: refer to existing mode and median functions to complete the task."
      ],
      "metadata": {
        "id": "Ynyfpg8zCbB9"
      }
    },
    {
      "cell_type": "code",
      "source": [
        "median_screen = laptops.Screen.median()\n",
        "median_screen"
      ],
      "metadata": {
        "colab": {
          "base_uri": "https://localhost:8080/"
        },
        "id": "cli1MccbCq9Q",
        "outputId": "02edb7a9-66c0-4481-f171-55ddef7ffe6e"
      },
      "execution_count": 55,
      "outputs": [
        {
          "output_type": "execute_result",
          "data": {
            "text/plain": [
              "15.6"
            ]
          },
          "metadata": {},
          "execution_count": 55
        }
      ]
    },
    {
      "cell_type": "code",
      "source": [
        "freq_screen = laptops.Screen.mode()\n",
        "laptops.Screen.fillna(freq_screen)"
      ],
      "metadata": {
        "colab": {
          "base_uri": "https://localhost:8080/",
          "height": 458
        },
        "id": "pqDLdfJgDzsI",
        "outputId": "415ac3ca-4be1-455f-9981-33d50b2411ba"
      },
      "execution_count": 56,
      "outputs": [
        {
          "output_type": "execute_result",
          "data": {
            "text/plain": [
              "0       15.6\n",
              "1       15.6\n",
              "2       15.6\n",
              "3       15.6\n",
              "4       15.6\n",
              "        ... \n",
              "2155    17.3\n",
              "2156    17.3\n",
              "2157    17.3\n",
              "2158    13.4\n",
              "2159    13.4\n",
              "Name: Screen, Length: 2160, dtype: float64"
            ],
            "text/html": [
              "<div>\n",
              "<style scoped>\n",
              "    .dataframe tbody tr th:only-of-type {\n",
              "        vertical-align: middle;\n",
              "    }\n",
              "\n",
              "    .dataframe tbody tr th {\n",
              "        vertical-align: top;\n",
              "    }\n",
              "\n",
              "    .dataframe thead th {\n",
              "        text-align: right;\n",
              "    }\n",
              "</style>\n",
              "<table border=\"1\" class=\"dataframe\">\n",
              "  <thead>\n",
              "    <tr style=\"text-align: right;\">\n",
              "      <th></th>\n",
              "      <th>Screen</th>\n",
              "    </tr>\n",
              "  </thead>\n",
              "  <tbody>\n",
              "    <tr>\n",
              "      <th>0</th>\n",
              "      <td>15.6</td>\n",
              "    </tr>\n",
              "    <tr>\n",
              "      <th>1</th>\n",
              "      <td>15.6</td>\n",
              "    </tr>\n",
              "    <tr>\n",
              "      <th>2</th>\n",
              "      <td>15.6</td>\n",
              "    </tr>\n",
              "    <tr>\n",
              "      <th>3</th>\n",
              "      <td>15.6</td>\n",
              "    </tr>\n",
              "    <tr>\n",
              "      <th>4</th>\n",
              "      <td>15.6</td>\n",
              "    </tr>\n",
              "    <tr>\n",
              "      <th>...</th>\n",
              "      <td>...</td>\n",
              "    </tr>\n",
              "    <tr>\n",
              "      <th>2155</th>\n",
              "      <td>17.3</td>\n",
              "    </tr>\n",
              "    <tr>\n",
              "      <th>2156</th>\n",
              "      <td>17.3</td>\n",
              "    </tr>\n",
              "    <tr>\n",
              "      <th>2157</th>\n",
              "      <td>17.3</td>\n",
              "    </tr>\n",
              "    <tr>\n",
              "      <th>2158</th>\n",
              "      <td>13.4</td>\n",
              "    </tr>\n",
              "    <tr>\n",
              "      <th>2159</th>\n",
              "      <td>13.4</td>\n",
              "    </tr>\n",
              "  </tbody>\n",
              "</table>\n",
              "<p>2160 rows × 1 columns</p>\n",
              "</div><br><label><b>dtype:</b> float64</label>"
            ]
          },
          "metadata": {},
          "execution_count": 56
        }
      ]
    },
    {
      "cell_type": "code",
      "source": [
        "new_median_screen = laptops.Screen.median()\n",
        "new_median_screen"
      ],
      "metadata": {
        "colab": {
          "base_uri": "https://localhost:8080/"
        },
        "id": "aRIgxTSTDe-u",
        "outputId": "e7eb0c8c-06ae-4b56-d277-32946ca39d75"
      },
      "execution_count": 57,
      "outputs": [
        {
          "output_type": "execute_result",
          "data": {
            "text/plain": [
              "15.6"
            ]
          },
          "metadata": {},
          "execution_count": 57
        }
      ]
    },
    {
      "cell_type": "markdown",
      "source": [
        "## Q7. Sum of weights\n",
        "* Select all the \"Innjoo\" laptops from the dataset.\n",
        "* Select only columns RAM, Storage, Screen.\n",
        "* Get the underlying NumPy array. Let's call it X.\n",
        "* Compute matrix-matrix multiplication between the transpose of X and X. To get the transpose, use X.T. Let's call the result XTX.\n",
        "* Compute the inverse of XTX.\n",
        "* Create an array y with values [1100, 1300, 800, 900, 1000, 1100].\n",
        "* Multiply the inverse of XTX with the transpose of X, and then multiply the result by y. Call the result w.\n",
        "\n",
        "What's the sum of all the elements of the result?\n",
        "\n",
        "Note: You just implemented linear regression. We'll talk about it in the next lesson."
      ],
      "metadata": {
        "id": "kQsA8JVhD7Po"
      }
    },
    {
      "cell_type": "code",
      "source": [],
      "metadata": {
        "id": "aXkqy6xHEDAJ"
      },
      "execution_count": null,
      "outputs": []
    }
  ]
}